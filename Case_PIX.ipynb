{
  "nbformat": 4,
  "nbformat_minor": 0,
  "metadata": {
    "colab": {
      "provenance": [],
      "authorship_tag": "ABX9TyPmRgcTotrMvG8POYlHVjZ2",
      "include_colab_link": true
    },
    "kernelspec": {
      "name": "python3",
      "display_name": "Python 3"
    },
    "language_info": {
      "name": "python"
    }
  },
  "cells": [
    {
      "cell_type": "markdown",
      "metadata": {
        "id": "view-in-github",
        "colab_type": "text"
      },
      "source": [
        "<a href=\"https://colab.research.google.com/github/matheusabreuleme/Transacoes_PIX/blob/main/Case_PIX.ipynb\" target=\"_parent\"><img src=\"https://colab.research.google.com/assets/colab-badge.svg\" alt=\"Open In Colab\"/></a>"
      ]
    },
    {
      "cell_type": "markdown",
      "source": [
        "#Preparação dos dados"
      ],
      "metadata": {
        "id": "dwmdOUfsEHLm"
      }
    },
    {
      "cell_type": "code",
      "execution_count": 1,
      "metadata": {
        "colab": {
          "base_uri": "https://localhost:8080/"
        },
        "id": "JHUM2rQu_y3E",
        "outputId": "170d5b64-763d-4344-af0b-e5b99d3560c6"
      },
      "outputs": [
        {
          "output_type": "stream",
          "name": "stdout",
          "text": [
            "Collecting pyspark\n",
            "  Downloading pyspark-3.5.2.tar.gz (317.3 MB)\n",
            "\u001b[2K     \u001b[90m━━━━━━━━━━━━━━━━━━━━━━━━━━━━━━━━━━━━━━━━\u001b[0m \u001b[32m317.3/317.3 MB\u001b[0m \u001b[31m2.8 MB/s\u001b[0m eta \u001b[36m0:00:00\u001b[0m\n",
            "\u001b[?25h  Preparing metadata (setup.py) ... \u001b[?25l\u001b[?25hdone\n",
            "Requirement already satisfied: py4j==0.10.9.7 in /usr/local/lib/python3.10/dist-packages (from pyspark) (0.10.9.7)\n",
            "Building wheels for collected packages: pyspark\n",
            "  Building wheel for pyspark (setup.py) ... \u001b[?25l\u001b[?25hdone\n",
            "  Created wheel for pyspark: filename=pyspark-3.5.2-py2.py3-none-any.whl size=317812365 sha256=e03dbecef0d84c19deca7b3e611130ced36f99d52757fd32cb4a2f1bc19b5a88\n",
            "  Stored in directory: /root/.cache/pip/wheels/34/34/bd/03944534c44b677cd5859f248090daa9fb27b3c8f8e5f49574\n",
            "Successfully built pyspark\n",
            "Installing collected packages: pyspark\n",
            "Successfully installed pyspark-3.5.2\n",
            "Authtoken saved to configuration file: /root/.ngrok2/ngrok.yml\n",
            "Mounted at /content/drive\n"
          ]
        }
      ],
      "source": [
        "#Instalando a última versão do PySpark\n",
        "!pip install pyspark\n",
        "\n",
        "\n",
        "#Iniciando a sessão spark\n",
        "from pyspark.sql import SparkSession\n",
        "\n",
        "spark = (\n",
        "    SparkSession.builder\n",
        "      .appName(\"SparkSQL\")\n",
        "      .getOrCreate()\n",
        ")\n",
        "\n",
        "\n",
        "from google.colab import drive\n",
        "drive.mount('/content/drive')"
      ]
    },
    {
      "cell_type": "code",
      "source": [
        "from pyspark.sql.types import *\n",
        "\n",
        "\n",
        "#Criação do Schema da base de dados\n",
        "\n",
        "schema_remetente_destinatario = StructType([\n",
        "    StructField('nome', StringType()),\n",
        "    StructField('banco', StringType()),\n",
        "    StructField('tipo', StringType())\n",
        "])\n",
        "\n",
        "schema_base_pix = StructType([\n",
        "    StructField('id_transacao', IntegerType()),\n",
        "    StructField('valor', DoubleType()),\n",
        "    StructField('remetente', schema_remetente_destinatario),\n",
        "    StructField('destinatario', schema_remetente_destinatario),\n",
        "    StructField('chave_pix', StringType()),\n",
        "    StructField('categoria', StringType()),\n",
        "    StructField('transaction_date', StringType()),\n",
        "    StructField('fraude', IntegerType())\n",
        "])\n",
        "\n",
        "#Caminho do arquivo json a ser analsiado\n",
        "caminho_json = 'drive/MyDrive/case_final.json'\n",
        "\n",
        "#Lendo o arquivo json\n",
        "\n",
        "df = spark.read.json(\n",
        "    caminho_json,\n",
        "    schema=schema_base_pix,\n",
        "    timestampFormat=\"yyyy-MM-dd HH:mm:ss\"\n",
        ")"
      ],
      "metadata": {
        "id": "V1ZUt3J2_2Oh"
      },
      "execution_count": 4,
      "outputs": []
    },
    {
      "cell_type": "code",
      "source": [
        "#Entendendo os tipos de dados\n",
        "df.printSchema()"
      ],
      "metadata": {
        "colab": {
          "base_uri": "https://localhost:8080/"
        },
        "id": "aVyMMHU_Bbb2",
        "outputId": "fbb0fea7-928c-46ef-a3f5-3e728e211132"
      },
      "execution_count": 5,
      "outputs": [
        {
          "output_type": "stream",
          "name": "stdout",
          "text": [
            "root\n",
            " |-- id_transacao: integer (nullable = true)\n",
            " |-- valor: double (nullable = true)\n",
            " |-- remetente: struct (nullable = true)\n",
            " |    |-- nome: string (nullable = true)\n",
            " |    |-- banco: string (nullable = true)\n",
            " |    |-- tipo: string (nullable = true)\n",
            " |-- destinatario: struct (nullable = true)\n",
            " |    |-- nome: string (nullable = true)\n",
            " |    |-- banco: string (nullable = true)\n",
            " |    |-- tipo: string (nullable = true)\n",
            " |-- chave_pix: string (nullable = true)\n",
            " |-- categoria: string (nullable = true)\n",
            " |-- transaction_date: string (nullable = true)\n",
            " |-- fraude: integer (nullable = true)\n",
            "\n"
          ]
        }
      ]
    },
    {
      "cell_type": "code",
      "source": [
        "#Visualizando a base\n",
        "df.show()"
      ],
      "metadata": {
        "colab": {
          "base_uri": "https://localhost:8080/"
        },
        "id": "YsOzIvknBmYg",
        "outputId": "df6f5ff0-b762-4acc-d533-53b9b85a522d"
      },
      "execution_count": 6,
      "outputs": [
        {
          "output_type": "stream",
          "name": "stdout",
          "text": [
            "+------------+------------------+--------------------+--------------------+---------+-------------+-------------------+------+\n",
            "|id_transacao|             valor|           remetente|        destinatario|chave_pix|    categoria|   transaction_date|fraude|\n",
            "+------------+------------------+--------------------+--------------------+---------+-------------+-------------------+------+\n",
            "|        1000|            588.08|{Jonathan Gonsalv...|{Calebe Melo, Cai...|aleatoria|       outros|2021-07-16 05:00:55|     0|\n",
            "|        1001|           80682.5|{Jonathan Gonsalv...|{Davi Lucas Perei...|  celular|transferencia|2022-04-20 12:34:01|     1|\n",
            "|        1002|             549.9|{Jonathan Gonsalv...|{Sabrina Castro, ...|      cpf|        lazer|2022-07-10 16:51:34|     0|\n",
            "|        1003|             90.83|{Jonathan Gonsalv...|{Francisco da Con...|aleatoria|   transporte|2022-10-20 10:57:36|     0|\n",
            "|        1004|13272.619999999999|{Jonathan Gonsalv...|{Isabelly Ferreir...|    email|transferencia|2021-04-06 20:26:51|     0|\n",
            "|        1005|           9347.58|{Jonathan Gonsalv...|{Srta. Maria da C...|aleatoria|        saude|2022-07-24 15:22:27|     0|\n",
            "|        1006|           7836.76|{Jonathan Gonsalv...|{Catarina Duarte,...|      cpf|    presentes|2022-10-05 19:20:24|     0|\n",
            "|        1007|           3883.62|{Jonathan Gonsalv...|{Vitor Correia, X...|      cpf|    vestuario|2021-04-24 17:36:34|     0|\n",
            "|        1008|               4.0|{Jonathan Gonsalv...|{Theo Novaes, C6,...|aleatoria|        saude|2021-11-16 21:46:47|     0|\n",
            "|        1009|              24.3|{Jonathan Gonsalv...|{Isabel Caldeira,...|      cpf|transferencia|2021-07-26 02:08:49|     0|\n",
            "|        1010|           87555.3|{Jonathan Gonsalv...|{Sr. Henrique Car...|aleatoria|transferencia|2022-03-14 15:34:45|     1|\n",
            "|        1011|          21345.91|{Jonathan Gonsalv...|{Felipe Cavalcant...|      cpf|transferencia|2021-10-31 04:31:51|     1|\n",
            "|        1012|          73605.85|{Jonathan Gonsalv...|{Dr. Davi da Luz,...|  celular|transferencia|2021-04-30 19:19:56|     1|\n",
            "|        1013|             93.53|{Jonathan Gonsalv...|{Stephany Cardoso...|      cpf|  alimentacao|2023-01-13 13:39:57|     0|\n",
            "|        1014|            564.11|{Jonathan Gonsalv...|{Sra. Julia Arauj...|aleatoria|    vestuario|2022-05-27 23:06:08|     0|\n",
            "|        1015|              3.59|{Jonathan Gonsalv...|{Carolina Farias,...|    email|        saude|2021-10-06 21:19:58|     0|\n",
            "|        1016|          19164.89|{Jonathan Gonsalv...|{Isabelly da Cost...|    email|  alimentacao|2022-03-06 17:59:43|     0|\n",
            "|        1017|             68.45|{Jonathan Gonsalv...|{Joao Miguel Silv...|aleatoria|    vestuario|2022-04-01 18:17:40|     0|\n",
            "|        1018|            941.25|{Jonathan Gonsalv...|{Matheus Moura, C...|  celular|    vestuario|2022-05-23 00:28:13|     0|\n",
            "|        1019|27009.910000000003|{Jonathan Gonsalv...|{Gabrielly Goncal...|    email|transferencia|2021-08-04 23:22:37|     1|\n",
            "+------------+------------------+--------------------+--------------------+---------+-------------+-------------------+------+\n",
            "only showing top 20 rows\n",
            "\n"
          ]
        }
      ]
    },
    {
      "cell_type": "code",
      "source": [
        "from pyspark.sql.functions import col\n",
        "\n",
        "#Adequando a base para a modelagem (desmembrando as colunas remente e destinatário devido terem chaves e valor dentro)\n",
        "\n",
        "df_flatten = df.withColumns({\n",
        "    'remetente_nome': col('remetente').getField('nome'),\n",
        "    'remetente_banco': col('remetente').getField('banco'),\n",
        "    'remetente_tipo': col('remetente').getField('tipo'),\n",
        "    'destinatario_nome': col('destinatario').getField('nome'),\n",
        "    'destinatario_banco': col('destinatario').getField('banco'),\n",
        "    'destinatario_tipo': col('destinatario').getField('tipo')\n",
        "}).drop('remetente', 'destinatario')\n"
      ],
      "metadata": {
        "id": "2y6otWJRBrYZ"
      },
      "execution_count": 12,
      "outputs": []
    },
    {
      "cell_type": "code",
      "source": [
        "#Visualizando a base após o flatten\n",
        "df_flatten.show()"
      ],
      "metadata": {
        "colab": {
          "base_uri": "https://localhost:8080/"
        },
        "id": "usV51pJGCtUV",
        "outputId": "a043a331-2e28-484a-dfc1-37a55c11e4d6"
      },
      "execution_count": 14,
      "outputs": [
        {
          "output_type": "stream",
          "name": "stdout",
          "text": [
            "+------------+------------------+---------+-------------+-------------------+------+------------------+---------------+--------------+--------------------+------------------+-----------------+\n",
            "|id_transacao|             valor|chave_pix|    categoria|   transaction_date|fraude|    remetente_nome|remetente_banco|remetente_tipo|   destinatario_nome|destinatario_banco|destinatario_tipo|\n",
            "+------------+------------------+---------+-------------+-------------------+------+------------------+---------------+--------------+--------------------+------------------+-----------------+\n",
            "|        1000|            588.08|aleatoria|       outros|2021-07-16 05:00:55|     0|Jonathan Gonsalves|            BTG|            PF|         Calebe Melo|             Caixa|               PF|\n",
            "|        1001|           80682.5|  celular|transferencia|2022-04-20 12:34:01|     1|Jonathan Gonsalves|            BTG|            PF|  Davi Lucas Pereira|             Caixa|               PJ|\n",
            "|        1002|             549.9|      cpf|        lazer|2022-07-10 16:51:34|     0|Jonathan Gonsalves|            BTG|            PF|      Sabrina Castro|            Nubank|               PF|\n",
            "|        1003|             90.83|aleatoria|   transporte|2022-10-20 10:57:36|     0|Jonathan Gonsalves|            BTG|            PF|Francisco da Conc...|            Nubank|               PJ|\n",
            "|        1004|13272.619999999999|    email|transferencia|2021-04-06 20:26:51|     0|Jonathan Gonsalves|            BTG|            PF|   Isabelly Ferreira|               BTG|               PJ|\n",
            "|        1005|           9347.58|aleatoria|        saude|2022-07-24 15:22:27|     0|Jonathan Gonsalves|            BTG|            PF|Srta. Maria da Cunha|              Itau|               PJ|\n",
            "|        1006|           7836.76|      cpf|    presentes|2022-10-05 19:20:24|     0|Jonathan Gonsalves|            BTG|            PF|     Catarina Duarte|                C6|               PF|\n",
            "|        1007|           3883.62|      cpf|    vestuario|2021-04-24 17:36:34|     0|Jonathan Gonsalves|            BTG|            PF|       Vitor Correia|                XP|               PJ|\n",
            "|        1008|               4.0|aleatoria|        saude|2021-11-16 21:46:47|     0|Jonathan Gonsalves|            BTG|            PF|         Theo Novaes|                C6|               PJ|\n",
            "|        1009|              24.3|      cpf|transferencia|2021-07-26 02:08:49|     0|Jonathan Gonsalves|            BTG|            PF|     Isabel Caldeira|                XP|               PJ|\n",
            "|        1010|           87555.3|aleatoria|transferencia|2022-03-14 15:34:45|     1|Jonathan Gonsalves|            BTG|            PF|Sr. Henrique Cardoso|            Nubank|               PF|\n",
            "|        1011|          21345.91|      cpf|transferencia|2021-10-31 04:31:51|     1|Jonathan Gonsalves|            BTG|            PF|   Felipe Cavalcanti|            Nubank|               PJ|\n",
            "|        1012|          73605.85|  celular|transferencia|2021-04-30 19:19:56|     1|Jonathan Gonsalves|            BTG|            PF|     Dr. Davi da Luz|          Bradesco|               PJ|\n",
            "|        1013|             93.53|      cpf|  alimentacao|2023-01-13 13:39:57|     0|Jonathan Gonsalves|            BTG|            PF|    Stephany Cardoso|                C6|               PJ|\n",
            "|        1014|            564.11|aleatoria|    vestuario|2022-05-27 23:06:08|     0|Jonathan Gonsalves|            BTG|            PF|   Sra. Julia Araujo|              Itau|               PJ|\n",
            "|        1015|              3.59|    email|        saude|2021-10-06 21:19:58|     0|Jonathan Gonsalves|            BTG|            PF|     Carolina Farias|            Nubank|               PJ|\n",
            "|        1016|          19164.89|    email|  alimentacao|2022-03-06 17:59:43|     0|Jonathan Gonsalves|            BTG|            PF|   Isabelly da Costa|            Nubank|               PJ|\n",
            "|        1017|             68.45|aleatoria|    vestuario|2022-04-01 18:17:40|     0|Jonathan Gonsalves|            BTG|            PF|Joao Miguel Silveira|                C6|               PJ|\n",
            "|        1018|            941.25|  celular|    vestuario|2022-05-23 00:28:13|     0|Jonathan Gonsalves|            BTG|            PF|       Matheus Moura|                C6|               PF|\n",
            "|        1019|27009.910000000003|    email|transferencia|2021-08-04 23:22:37|     1|Jonathan Gonsalves|            BTG|            PF| Gabrielly Goncalves|              Itau|               PJ|\n",
            "+------------+------------------+---------+-------------+-------------------+------+------------------+---------------+--------------+--------------------+------------------+-----------------+\n",
            "only showing top 20 rows\n",
            "\n"
          ]
        }
      ]
    },
    {
      "cell_type": "code",
      "source": [
        "#Verificando estatísticas básicas da base atravésa do describe.\n",
        "df_flatten.describe().show()"
      ],
      "metadata": {
        "colab": {
          "base_uri": "https://localhost:8080/"
        },
        "id": "ZBWEDyrZCude",
        "outputId": "986aa4aa-f9a7-469b-f801-81d34b614491"
      },
      "execution_count": 15,
      "outputs": [
        {
          "output_type": "stream",
          "name": "stdout",
          "text": [
            "+-------+-----------------+------------------+---------+-----------+-------------------+------------------+------------------+---------------+--------------+-----------------+------------------+-----------------+\n",
            "|summary|     id_transacao|             valor|chave_pix|  categoria|   transaction_date|            fraude|    remetente_nome|remetente_banco|remetente_tipo|destinatario_nome|destinatario_banco|destinatario_tipo|\n",
            "+-------+-----------------+------------------+---------+-----------+-------------------+------------------+------------------+---------------+--------------+-----------------+------------------+-----------------+\n",
            "|  count|           100000|            100000|   100000|     100000|             100000|            100000|            100000|         100000|        100000|           100000|            100000|           100000|\n",
            "|   mean|          50999.5|10303.358732200059|     NULL|       NULL|               NULL|           0.15367|              NULL|           NULL|          NULL|             NULL|              NULL|             NULL|\n",
            "| stddev|28867.65779668774| 20874.99768875586|     NULL|       NULL|               NULL|0.3606339302787737|              NULL|           NULL|          NULL|             NULL|              NULL|             NULL|\n",
            "|    min|             1000|               0.0|aleatoria|alimentacao|2021-01-14 15:37:45|                 0|Jonathan Gonsalves|            BTG|            PF|   Agatha Almeida|               BTG|               PF|\n",
            "|    max|           100999|          89996.33|    email|  vestuario|2023-01-15 02:51:10|                 1|Jonathan Gonsalves|            BTG|            PF|   Yuri das Neves|                XP|               PJ|\n",
            "+-------+-----------------+------------------+---------+-----------+-------------------+------------------+------------------+---------------+--------------+-----------------+------------------+-----------------+\n",
            "\n"
          ]
        }
      ]
    },
    {
      "cell_type": "markdown",
      "source": [
        "#Análise dos dados"
      ],
      "metadata": {
        "id": "U_qejnfzEDrO"
      }
    },
    {
      "cell_type": "code",
      "source": [
        "#Criando um tempView\n",
        "\n",
        "df_flatten.createOrReplaceTempView('pix')"
      ],
      "metadata": {
        "id": "MTx2D0sOC1-2"
      },
      "execution_count": 16,
      "outputs": []
    },
    {
      "cell_type": "code",
      "source": [
        "#Elencando quais os bancos que mais receberam transações\n",
        "spark.sql(\n",
        "    '''\n",
        "    SELECT count(*) as total_transacoes, destinatario_banco\n",
        "    FROM pix\n",
        "    GROUP BY destinatario_banco\n",
        "    ORDER BY total_transacoes DESC\n",
        "    '''\n",
        ").show()"
      ],
      "metadata": {
        "colab": {
          "base_uri": "https://localhost:8080/"
        },
        "id": "NBrLIgLnGjrU",
        "outputId": "1db451b0-e238-4a5c-9fb5-e37fc0ef7d4a"
      },
      "execution_count": 18,
      "outputs": [
        {
          "output_type": "stream",
          "name": "stdout",
          "text": [
            "+----------------+------------------+\n",
            "|total_transacoes|destinatario_banco|\n",
            "+----------------+------------------+\n",
            "|           14401|                XP|\n",
            "|           14390|               BTG|\n",
            "|           14297|            Nubank|\n",
            "|           14281|              Itau|\n",
            "|           14240|             Caixa|\n",
            "|           14204|                C6|\n",
            "|           14187|          Bradesco|\n",
            "+----------------+------------------+\n",
            "\n"
          ]
        }
      ]
    },
    {
      "cell_type": "code",
      "source": [
        "#Top 10 dias em que o cliente mais realiza transações\n",
        "spark.sql(\n",
        "    '''\n",
        "    select count(*) as qtd_transacoes, day(transaction_date) as dia\n",
        "    from pix\n",
        "    group by dia\n",
        "    order by qtd_transacoes desc\n",
        "    '''\n",
        ").show()"
      ],
      "metadata": {
        "colab": {
          "base_uri": "https://localhost:8080/"
        },
        "id": "cOsiKjpnG8TF",
        "outputId": "79440570-4ecf-488c-c4d4-ca0494c72a8d"
      },
      "execution_count": 31,
      "outputs": [
        {
          "output_type": "stream",
          "name": "stdout",
          "text": [
            "+--------------+---+\n",
            "|qtd_transacoes|dia|\n",
            "+--------------+---+\n",
            "|          3415| 20|\n",
            "|          3409| 12|\n",
            "|          3360| 10|\n",
            "|          3350| 15|\n",
            "|          3346| 16|\n",
            "|          3328|  9|\n",
            "|          3327|  3|\n",
            "|          3324|  2|\n",
            "|          3312|  6|\n",
            "|          3311| 22|\n",
            "|          3309| 28|\n",
            "|          3305| 21|\n",
            "|          3299| 24|\n",
            "|          3294|  8|\n",
            "|          3294| 23|\n",
            "|          3285| 17|\n",
            "|          3279|  5|\n",
            "|          3270| 11|\n",
            "|          3268| 14|\n",
            "|          3252| 19|\n",
            "+--------------+---+\n",
            "only showing top 20 rows\n",
            "\n"
          ]
        }
      ]
    },
    {
      "cell_type": "code",
      "source": [
        "#Média dos valores de transações por mês por banco\n",
        "spark.sql(\n",
        "    '''\n",
        "    select round(count(*)/month(transaction_date),2) as media_mensal, month(transaction_date) as mes\n",
        "    from pix\n",
        "    group by mes\n",
        "    order by media_mensal desc\n",
        "    '''\n",
        ").show()"
      ],
      "metadata": {
        "colab": {
          "base_uri": "https://localhost:8080/"
        },
        "id": "IRdyGB8BHZZi",
        "outputId": "20f1da0c-b96d-4dec-8fd4-38914d0d78a7"
      },
      "execution_count": 34,
      "outputs": [
        {
          "output_type": "stream",
          "name": "stdout",
          "text": [
            "+------------+---+\n",
            "|media_mensal|mes|\n",
            "+------------+---+\n",
            "|      8613.0|  1|\n",
            "|      3824.5|  2|\n",
            "|     2820.67|  3|\n",
            "|     2042.25|  4|\n",
            "|      1708.8|  5|\n",
            "|     1388.17|  6|\n",
            "|     1213.57|  7|\n",
            "|     1059.75|  8|\n",
            "|       914.0|  9|\n",
            "|       843.5| 10|\n",
            "|      740.73| 11|\n",
            "|      704.33| 12|\n",
            "+------------+---+\n",
            "\n"
          ]
        }
      ]
    },
    {
      "cell_type": "code",
      "source": [
        "#Média dos valores de transações por mês por banco\n",
        "spark.sql(\n",
        "    '''\n",
        "    select round(sum(valor),2) as total_transacao, destinatario_banco as banco\n",
        "    from pix\n",
        "    group by banco\n",
        "    order by total_transacao desc\n",
        "    '''\n",
        ").show()"
      ],
      "metadata": {
        "colab": {
          "base_uri": "https://localhost:8080/"
        },
        "id": "-D5XCUBuIk3S",
        "outputId": "de8ed16b-1ede-4fa8-d179-29fc02818407"
      },
      "execution_count": 37,
      "outputs": [
        {
          "output_type": "stream",
          "name": "stdout",
          "text": [
            "+---------------+--------+\n",
            "|total_transacao|   banco|\n",
            "+---------------+--------+\n",
            "| 1.4987422863E8|Bradesco|\n",
            "| 1.4873455871E8|      XP|\n",
            "| 1.4749464881E8|  Nubank|\n",
            "|  1.464361348E8|      C6|\n",
            "| 1.4610714452E8|    Itau|\n",
            "| 1.4602926358E8|   Caixa|\n",
            "| 1.4565989417E8|     BTG|\n",
            "+---------------+--------+\n",
            "\n"
          ]
        }
      ]
    },
    {
      "cell_type": "code",
      "source": [
        "#Quantidade de transações por mês, por banco e por categoria\n",
        "spark.sql(\n",
        "    '''\n",
        "    select count(*) as qtd_transacoes, month(transaction_date) as mes, destinatario_banco as banco, categoria\n",
        "    from pix\n",
        "    group by mes, banco, categoria\n",
        "    order by mes, banco\n",
        "    '''\n",
        ").show()"
      ],
      "metadata": {
        "colab": {
          "base_uri": "https://localhost:8080/"
        },
        "id": "6X6Nx9tcKC7O",
        "outputId": "936c0d98-5f9a-40ff-bb4a-12eac5908633"
      },
      "execution_count": 41,
      "outputs": [
        {
          "output_type": "stream",
          "name": "stdout",
          "text": [
            "+--------------+---+--------+-------------+\n",
            "|qtd_transacoes|mes|   banco|    categoria|\n",
            "+--------------+---+--------+-------------+\n",
            "|           125|  1|     BTG|     educacao|\n",
            "|           115|  1|     BTG|        lazer|\n",
            "|           113|  1|     BTG|       outros|\n",
            "|           120|  1|     BTG|        saude|\n",
            "|           109|  1|     BTG|    presentes|\n",
            "|           115|  1|     BTG|    vestuario|\n",
            "|           118|  1|     BTG|   transporte|\n",
            "|           123|  1|     BTG|  alimentacao|\n",
            "|           307|  1|     BTG|transferencia|\n",
            "|           117|  1|Bradesco|   transporte|\n",
            "|           100|  1|Bradesco|     educacao|\n",
            "|           131|  1|Bradesco|  alimentacao|\n",
            "|           329|  1|Bradesco|transferencia|\n",
            "|            95|  1|Bradesco|    presentes|\n",
            "|           126|  1|Bradesco|        saude|\n",
            "|           101|  1|Bradesco|       outros|\n",
            "|           123|  1|Bradesco|    vestuario|\n",
            "|           112|  1|Bradesco|        lazer|\n",
            "|           100|  1|      C6|   transporte|\n",
            "|           103|  1|      C6|    presentes|\n",
            "+--------------+---+--------+-------------+\n",
            "only showing top 20 rows\n",
            "\n"
          ]
        }
      ]
    },
    {
      "cell_type": "code",
      "source": [
        "#Total de gastos por categoria a cada ano\n",
        "spark.sql(\n",
        "    '''\n",
        "    select round(sum(valor),2) as valor, categoria, year(transaction_date) as ano\n",
        "    from pix\n",
        "    group by categoria, ano\n",
        "    order by ano desc\n",
        "    '''\n",
        ").show()"
      ],
      "metadata": {
        "colab": {
          "base_uri": "https://localhost:8080/"
        },
        "id": "v00x7ubOKkxJ",
        "outputId": "84c21616-614a-44ea-c466-edb332ac1606"
      },
      "execution_count": 50,
      "outputs": [
        {
          "output_type": "stream",
          "name": "stdout",
          "text": [
            "+--------------+-------------+----+\n",
            "|         valor|    categoria| ano|\n",
            "+--------------+-------------+----+\n",
            "|     400683.64|        saude|2023|\n",
            "|     501308.34|       outros|2023|\n",
            "|      459528.7|    vestuario|2023|\n",
            "|     392078.31|  alimentacao|2023|\n",
            "|     469671.41|        lazer|2023|\n",
            "|     427790.54|   transporte|2023|\n",
            "|     362584.45|    presentes|2023|\n",
            "| 1.614868262E7|transferencia|2023|\n",
            "|     432305.66|     educacao|2023|\n",
            "| 1.031158574E7|    presentes|2022|\n",
            "| 1.004824507E7|        saude|2022|\n",
            "| 1.069600648E7|    vestuario|2022|\n",
            "| 1.036712444E7|     educacao|2022|\n",
            "| 1.029574763E7|        lazer|2022|\n",
            "| 1.055340829E7|   transporte|2022|\n",
            "| 1.054578323E7|  alimentacao|2022|\n",
            "|4.3019109879E8|transferencia|2022|\n",
            "|  1.05666451E7|       outros|2022|\n",
            "| 1.038466282E7|        saude|2021|\n",
            "| 1.023792825E7|  alimentacao|2021|\n",
            "+--------------+-------------+----+\n",
            "only showing top 20 rows\n",
            "\n"
          ]
        }
      ]
    },
    {
      "cell_type": "code",
      "source": [
        "#Quantidade de transações com fraude\n",
        "spark.sql(\n",
        "    '''\n",
        "    select count(*) as qtd, fraude\n",
        "    from pix\n",
        "    group by fraude\n",
        "    '''\n",
        ").show()"
      ],
      "metadata": {
        "colab": {
          "base_uri": "https://localhost:8080/"
        },
        "id": "9aDb7h5sLVLx",
        "outputId": "f9e0b2d4-90a1-4b96-d948-462bbd9283db"
      },
      "execution_count": 54,
      "outputs": [
        {
          "output_type": "stream",
          "name": "stdout",
          "text": [
            "+-----+------+\n",
            "|  qtd|fraude|\n",
            "+-----+------+\n",
            "|15367|     1|\n",
            "|84633|     0|\n",
            "+-----+------+\n",
            "\n"
          ]
        }
      ]
    },
    {
      "cell_type": "code",
      "source": [
        "#Qual categoria as fraudes mais acontecem?\n",
        "spark.sql(\n",
        "    '''\n",
        "    select count(*) as qtd, fraude, categoria\n",
        "    from pix\n",
        "    group by categoria, fraude\n",
        "    '''\n",
        ").show()"
      ],
      "metadata": {
        "colab": {
          "base_uri": "https://localhost:8080/"
        },
        "id": "mUUZ8VxsMSU0",
        "outputId": "0a16ac5e-9f33-45f5-c100-f6b278378c1a"
      },
      "execution_count": 64,
      "outputs": [
        {
          "output_type": "stream",
          "name": "stdout",
          "text": [
            "+-----+------+-------------+\n",
            "|  qtd|fraude|    categoria|\n",
            "+-----+------+-------------+\n",
            "| 9377|     0|       outros|\n",
            "| 9460|     0|     educacao|\n",
            "| 9377|     0|transferencia|\n",
            "|15367|     1|transferencia|\n",
            "| 9254|     0|    presentes|\n",
            "| 9476|     0|        saude|\n",
            "| 9464|     0|        lazer|\n",
            "| 9174|     0|   transporte|\n",
            "| 9503|     0|    vestuario|\n",
            "| 9548|     0|  alimentacao|\n",
            "+-----+------+-------------+\n",
            "\n"
          ]
        }
      ]
    },
    {
      "cell_type": "code",
      "source": [
        "#Ranges de valores das transações fraudulentas\n",
        "\n",
        "from pyspark.sql.functions import floor\n",
        "\n",
        "df_flatten.filter(col('fraude') == 1).withColumn(\n",
        "    'range',\n",
        "    floor(col('valor')/1000)*1000\n",
        ").groupBy('range').count().orderBy(col('range').desc()).show()"
      ],
      "metadata": {
        "colab": {
          "base_uri": "https://localhost:8080/"
        },
        "id": "qpXbFTlPMl6w",
        "outputId": "2b627d22-99a2-4f87-cced-4f6c4ab839b0"
      },
      "execution_count": 65,
      "outputs": [
        {
          "output_type": "stream",
          "name": "stdout",
          "text": [
            "+-----+-----+\n",
            "|range|count|\n",
            "+-----+-----+\n",
            "|89000|  222|\n",
            "|88000|  208|\n",
            "|87000|  230|\n",
            "|86000|  203|\n",
            "|85000|  205|\n",
            "|84000|  245|\n",
            "|83000|  206|\n",
            "|82000|  206|\n",
            "|81000|  214|\n",
            "|80000|  213|\n",
            "|79000|  205|\n",
            "|78000|  230|\n",
            "|77000|  237|\n",
            "|76000|  232|\n",
            "|75000|  190|\n",
            "|74000|  207|\n",
            "|73000|  237|\n",
            "|72000|  234|\n",
            "|71000|  234|\n",
            "|70000|  222|\n",
            "+-----+-----+\n",
            "only showing top 20 rows\n",
            "\n"
          ]
        }
      ]
    },
    {
      "cell_type": "code",
      "source": [
        "#Obtendo os valores máximo e mínimo das transações fraudulentas\n",
        "spark.sql(\n",
        "    '''\n",
        "    select max(valor) as maximo, min(valor) as minimo\n",
        "    from pix\n",
        "    where fraude = 1\n",
        "    '''\n",
        ").show()"
      ],
      "metadata": {
        "colab": {
          "base_uri": "https://localhost:8080/"
        },
        "id": "HoB7An_FcnB5",
        "outputId": "d83e28f5-e2b4-459e-a180-204a9608158b"
      },
      "execution_count": 100,
      "outputs": [
        {
          "output_type": "stream",
          "name": "stdout",
          "text": [
            "+--------+--------+\n",
            "|  maximo|  minimo|\n",
            "+--------+--------+\n",
            "|89996.33|19999.98|\n",
            "+--------+--------+\n",
            "\n"
          ]
        }
      ]
    },
    {
      "cell_type": "markdown",
      "source": [
        "#Modelagem"
      ],
      "metadata": {
        "id": "xPA4YYNvOyeE"
      }
    },
    {
      "cell_type": "code",
      "source": [
        "from pyspark.sql.functions import udf\n",
        "\n",
        "from pyspark.ml import Pipeline\n",
        "from pyspark.ml.feature import StringIndexer, VectorAssembler\n",
        "from pyspark.ml.classification import LogisticRegression"
      ],
      "metadata": {
        "id": "vNahS6QAOJs3"
      },
      "execution_count": 90,
      "outputs": []
    },
    {
      "cell_type": "code",
      "source": [
        "#Removendo colunas não necessárias para o modelo\n",
        "df = df_flatten.drop('remetente','id')"
      ],
      "metadata": {
        "id": "giCTPRvwRXoX"
      },
      "execution_count": 71,
      "outputs": []
    },
    {
      "cell_type": "code",
      "source": [
        "#Criando index para as categorias\n",
        "indexer = StringIndexer(\n",
        "    inputCols=['destinatario_nome', 'destinatario_banco', 'destinatario_tipo', 'categoria', 'chave_pix'],\n",
        "    outputCols=['destinatario_nome_index', 'destinatario_banco_index', 'destinatario_tipo_index', 'categoria_index', 'chave_pix_index']\n",
        ")"
      ],
      "metadata": {
        "id": "ioUzofhARvqW"
      },
      "execution_count": 72,
      "outputs": []
    },
    {
      "cell_type": "code",
      "source": [
        "df_index = indexer.fit(df).transform(df)\n",
        "df_index.show()"
      ],
      "metadata": {
        "colab": {
          "base_uri": "https://localhost:8080/"
        },
        "id": "UbzyRMc4SJJz",
        "outputId": "edea7176-cb5f-401d-a173-400e7afb03bd"
      },
      "execution_count": 73,
      "outputs": [
        {
          "output_type": "stream",
          "name": "stdout",
          "text": [
            "+------------+------------------+---------+-------------+-------------------+------+------------------+---------------+--------------+--------------------+------------------+-----------------+-----------------------+------------------------+-----------------------+---------------+---------------+\n",
            "|id_transacao|             valor|chave_pix|    categoria|   transaction_date|fraude|    remetente_nome|remetente_banco|remetente_tipo|   destinatario_nome|destinatario_banco|destinatario_tipo|destinatario_nome_index|destinatario_banco_index|destinatario_tipo_index|categoria_index|chave_pix_index|\n",
            "+------------+------------------+---------+-------------+-------------------+------+------------------+---------------+--------------+--------------------+------------------+-----------------+-----------------------+------------------------+-----------------------+---------------+---------------+\n",
            "|        1000|            588.08|aleatoria|       outros|2021-07-16 05:00:55|     0|Jonathan Gonsalves|            BTG|            PF|         Calebe Melo|             Caixa|               PF|                12045.0|                     4.0|                    1.0|            6.0|            3.0|\n",
            "|        1001|           80682.5|  celular|transferencia|2022-04-20 12:34:01|     1|Jonathan Gonsalves|            BTG|            PF|  Davi Lucas Pereira|             Caixa|               PJ|                  259.0|                     4.0|                    0.0|            0.0|            2.0|\n",
            "|        1002|             549.9|      cpf|        lazer|2022-07-10 16:51:34|     0|Jonathan Gonsalves|            BTG|            PF|      Sabrina Castro|            Nubank|               PF|                  132.0|                     2.0|                    1.0|            4.0|            1.0|\n",
            "|        1003|             90.83|aleatoria|   transporte|2022-10-20 10:57:36|     0|Jonathan Gonsalves|            BTG|            PF|Francisco da Conc...|            Nubank|               PJ|                10475.0|                     2.0|                    0.0|            8.0|            3.0|\n",
            "|        1004|13272.619999999999|    email|transferencia|2021-04-06 20:26:51|     0|Jonathan Gonsalves|            BTG|            PF|   Isabelly Ferreira|               BTG|               PJ|                 4159.0|                     1.0|                    0.0|            0.0|            0.0|\n",
            "|        1005|           9347.58|aleatoria|        saude|2022-07-24 15:22:27|     0|Jonathan Gonsalves|            BTG|            PF|Srta. Maria da Cunha|              Itau|               PJ|                26853.0|                     3.0|                    0.0|            3.0|            3.0|\n",
            "|        1006|           7836.76|      cpf|    presentes|2022-10-05 19:20:24|     0|Jonathan Gonsalves|            BTG|            PF|     Catarina Duarte|                C6|               PF|                 5578.0|                     5.0|                    1.0|            7.0|            1.0|\n",
            "|        1007|           3883.62|      cpf|    vestuario|2021-04-24 17:36:34|     0|Jonathan Gonsalves|            BTG|            PF|       Vitor Correia|                XP|               PJ|                13528.0|                     0.0|                    0.0|            2.0|            1.0|\n",
            "|        1008|               4.0|aleatoria|        saude|2021-11-16 21:46:47|     0|Jonathan Gonsalves|            BTG|            PF|         Theo Novaes|                C6|               PJ|                 1141.0|                     5.0|                    0.0|            3.0|            3.0|\n",
            "|        1009|              24.3|      cpf|transferencia|2021-07-26 02:08:49|     0|Jonathan Gonsalves|            BTG|            PF|     Isabel Caldeira|                XP|               PJ|                 8369.0|                     0.0|                    0.0|            0.0|            1.0|\n",
            "|        1010|           87555.3|aleatoria|transferencia|2022-03-14 15:34:45|     1|Jonathan Gonsalves|            BTG|            PF|Sr. Henrique Cardoso|            Nubank|               PF|                22115.0|                     2.0|                    1.0|            0.0|            3.0|\n",
            "|        1011|          21345.91|      cpf|transferencia|2021-10-31 04:31:51|     1|Jonathan Gonsalves|            BTG|            PF|   Felipe Cavalcanti|            Nubank|               PJ|                 5897.0|                     2.0|                    0.0|            0.0|            1.0|\n",
            "|        1012|          73605.85|  celular|transferencia|2021-04-30 19:19:56|     1|Jonathan Gonsalves|            BTG|            PF|     Dr. Davi da Luz|          Bradesco|               PJ|                12212.0|                     6.0|                    0.0|            0.0|            2.0|\n",
            "|        1013|             93.53|      cpf|  alimentacao|2023-01-13 13:39:57|     0|Jonathan Gonsalves|            BTG|            PF|    Stephany Cardoso|                C6|               PJ|                   10.0|                     5.0|                    0.0|            1.0|            1.0|\n",
            "|        1014|            564.11|aleatoria|    vestuario|2022-05-27 23:06:08|     0|Jonathan Gonsalves|            BTG|            PF|   Sra. Julia Araujo|              Itau|               PJ|                24413.0|                     3.0|                    0.0|            2.0|            3.0|\n",
            "|        1015|              3.59|    email|        saude|2021-10-06 21:19:58|     0|Jonathan Gonsalves|            BTG|            PF|     Carolina Farias|            Nubank|               PJ|                10121.0|                     2.0|                    0.0|            3.0|            0.0|\n",
            "|        1016|          19164.89|    email|  alimentacao|2022-03-06 17:59:43|     0|Jonathan Gonsalves|            BTG|            PF|   Isabelly da Costa|            Nubank|               PJ|                 6122.0|                     2.0|                    0.0|            1.0|            0.0|\n",
            "|        1017|             68.45|aleatoria|    vestuario|2022-04-01 18:17:40|     0|Jonathan Gonsalves|            BTG|            PF|Joao Miguel Silveira|                C6|               PJ|                 6214.0|                     5.0|                    0.0|            2.0|            3.0|\n",
            "|        1018|            941.25|  celular|    vestuario|2022-05-23 00:28:13|     0|Jonathan Gonsalves|            BTG|            PF|       Matheus Moura|                C6|               PF|                 1829.0|                     5.0|                    1.0|            2.0|            2.0|\n",
            "|        1019|27009.910000000003|    email|transferencia|2021-08-04 23:22:37|     1|Jonathan Gonsalves|            BTG|            PF| Gabrielly Goncalves|              Itau|               PJ|                 5973.0|                     3.0|                    0.0|            0.0|            0.0|\n",
            "+------------+------------------+---------+-------------+-------------------+------+------------------+---------------+--------------+--------------------+------------------+-----------------+-----------------------+------------------------+-----------------------+---------------+---------------+\n",
            "only showing top 20 rows\n",
            "\n"
          ]
        }
      ]
    },
    {
      "cell_type": "code",
      "source": [
        "#Criando uma lista com as colunas que serão utilizadas no treino do modelo\n",
        "cols_para_filtrar = [\n",
        "    'valor',\n",
        "    'transaction_date',\n",
        "    'destinatario_nome_index',\n",
        "    'destinatario_banco_index',\n",
        "    'destinatario_tipo_index',\n",
        "    'chave_pix_index',\n",
        "    'categoria_index',\n",
        "    'fraude'\n",
        "]"
      ],
      "metadata": {
        "id": "5FypOk7_SOm2"
      },
      "execution_count": 75,
      "outputs": []
    },
    {
      "cell_type": "code",
      "source": [
        "#Separando o df em 2 (os com fraude e sem fraude)\n",
        "\n",
        "eh_fraude = df_index.select(cols_para_filtrar).filter(col('fraude') == 1)\n",
        "sem_fraude = df_index.select(cols_para_filtrar).filter(col('fraude') == 0)\n",
        "\n",
        "#Tirando uma amostra de 1% de dados sem fraude\n",
        "sem_fraude = sem_fraude.sample(False, 0.01, seed=42)"
      ],
      "metadata": {
        "id": "0CfV4tk8SytN"
      },
      "execution_count": 79,
      "outputs": []
    },
    {
      "cell_type": "code",
      "source": [
        "#Unindo os dados para o teste\n",
        "df_concat = sem_fraude.union(eh_fraude)\n",
        "df = df_concat.sort('transaction_date')\n",
        "df.count()"
      ],
      "metadata": {
        "colab": {
          "base_uri": "https://localhost:8080/"
        },
        "id": "b0xlfkQHTOua",
        "outputId": "dba441ce-20d0-4d11-b1ba-8f00dd840136"
      },
      "execution_count": 80,
      "outputs": [
        {
          "output_type": "execute_result",
          "data": {
            "text/plain": [
              "16269"
            ]
          },
          "metadata": {},
          "execution_count": 80
        }
      ]
    },
    {
      "cell_type": "code",
      "source": [
        "#Criando os dfs de treino e teste\n",
        "\n",
        "train, test = df.randomSplit([0.75, 0.25], seed=42)\n",
        "print('train = ',train.count(), 'teste =', test.count())"
      ],
      "metadata": {
        "colab": {
          "base_uri": "https://localhost:8080/"
        },
        "id": "U7xdO9C4Tt3V",
        "outputId": "5914950b-e681-4e8d-d280-cab45b8446f7"
      },
      "execution_count": 82,
      "outputs": [
        {
          "output_type": "stream",
          "name": "stdout",
          "text": [
            "train =  12264 teste = 4005\n"
          ]
        }
      ]
    },
    {
      "cell_type": "code",
      "source": [
        "#Criando uma coluna de fraude no df\n",
        "eh_fraude = udf(lambda fraude: 1.0 if fraude > 0 else 0.0, DoubleType())\n",
        "train = train.withColumn('eh_fraude', eh_fraude(train.fraude))"
      ],
      "metadata": {
        "id": "MBoD6-mLUCpP"
      },
      "execution_count": 83,
      "outputs": []
    },
    {
      "cell_type": "code",
      "source": [
        "from pyspark.ml.feature import HashingTF\n",
        "\n",
        "#Criando a feature de Vetores\n",
        "\n",
        "assembler = VectorAssembler(\n",
        "    inputCols=[x for x in train.columns if x not in ['transaction_date','fraude','eh_fraude']],\n",
        "    outputCol='features'\n",
        ")\n",
        "\n",
        "\n",
        "#Usando o modelo de Regressão Logistica\n",
        "\n",
        "lr = LogisticRegression().setParams(\n",
        "    maxIter=10000,\n",
        "    labelCol='eh_fraude',\n",
        "    predictionCol='prediction'\n",
        ")\n",
        "\n",
        "#Criando a Pipeline do Modelo\n",
        "model_lr = Pipeline(stages=[assembler, lr]).fit(train)"
      ],
      "metadata": {
        "id": "C5Ql9uR7U8p1"
      },
      "execution_count": 91,
      "outputs": []
    },
    {
      "cell_type": "code",
      "source": [
        "#Verificando a eficiência do modelo nos dados de teste\n",
        "predicted_lr = model_lr.transform(test)\n",
        "predicted_lr = predicted_lr.withColumn('eh_fraude', eh_fraude(predicted_lr.fraude))\n",
        "predicted_lr.crosstab('eh_fraude','prediction').show()"
      ],
      "metadata": {
        "colab": {
          "base_uri": "https://localhost:8080/"
        },
        "id": "cGtpTDuaWWY1",
        "outputId": "0cf27653-dbb1-4122-9f5c-5972b612d74e"
      },
      "execution_count": 92,
      "outputs": [
        {
          "output_type": "stream",
          "name": "stdout",
          "text": [
            "+--------------------+---+----+\n",
            "|eh_fraude_prediction|0.0| 1.0|\n",
            "+--------------------+---+----+\n",
            "|                 1.0|  0|3817|\n",
            "|                 0.0|187|   1|\n",
            "+--------------------+---+----+\n",
            "\n"
          ]
        }
      ]
    },
    {
      "cell_type": "code",
      "source": [
        "from pyspark.ml.evaluation import RegressionEvaluator\n",
        "\n",
        "\n",
        "#Avaliação do modelo\n",
        "\n",
        "# Erro Quadrático Médio (MSE)\n",
        "evaluator_mse = RegressionEvaluator(labelCol=\"fraude\", predictionCol=\"prediction\", metricName=\"mse\")\n",
        "mse = evaluator_mse.evaluate(predicted_lr)\n",
        "print(f\"Erro Quadrático Médio (MSE): {mse:.4f}\")\n",
        "\n",
        "# Erro Absoluto Médio (MAE)\n",
        "evaluator_mae = RegressionEvaluator(labelCol=\"fraude\", predictionCol=\"prediction\", metricName=\"mae\")\n",
        "mae = evaluator_mae.evaluate(predicted_lr)\n",
        "print(f\"Erro Absoluto Médio (MAE): {mae:.4f}\")\n",
        "\n",
        "# R2\n",
        "evaluator_r2 = RegressionEvaluator(labelCol=\"fraude\", predictionCol=\"prediction\", metricName=\"r2\")\n",
        "r2 = evaluator_r2.evaluate(predicted_lr)\n",
        "print(f\"R²: {r2:.4f}\")"
      ],
      "metadata": {
        "colab": {
          "base_uri": "https://localhost:8080/"
        },
        "id": "Fc9LuLMnbJFf",
        "outputId": "36624867-ceb6-4f5e-edb3-38632edaabab"
      },
      "execution_count": 96,
      "outputs": [
        {
          "output_type": "stream",
          "name": "stdout",
          "text": [
            "Erro Quadrático Médio (MSE): 0.0002\n",
            "Erro Absoluto Médio (MAE): 0.0002\n",
            "R²: 0.9944\n"
          ]
        }
      ]
    },
    {
      "cell_type": "markdown",
      "source": [
        "#Conclusão"
      ],
      "metadata": {
        "id": "QWygeLHAcSdP"
      }
    },
    {
      "cell_type": "markdown",
      "source": [
        "### O Cliente possui um grande volume de transações, nas quais, cerca de 15% são fraudulentas.\n",
        "\n",
        "### Todas as transações fraudulentar se deram na categorias transferência, sendo que tratam-se de valores alto, no qual o menor valor foi de 19999,98 e o maior de 89996,33\n",
        "\n",
        "### Notou-se que o banco que recebeu mais transações foi o XP e o que recebeu menos transações foi o Bradesco, entretanto, o banco Bradesco recebeu a maior quantidade (em valor R$) de transação\n",
        "\n",
        "### Além disso, o modelo de Regressão logística utilizado obteve uma boa resposta com os dados de teste, no qual apresentou um Erro Quadrático Médio de 0,0002 e R2 de 0,9944"
      ],
      "metadata": {
        "id": "rwNB-eMLcVdr"
      }
    }
  ]
}